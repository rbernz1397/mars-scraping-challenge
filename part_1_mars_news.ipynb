{
  "cells": [
    {
      "cell_type": "markdown",
      "metadata": {
        "id": "_GqU6GOFCLS2"
      },
      "source": [
        "# Module 12 Challenge\n",
        "## Deliverable 1: Scrape Titles and Preview Text from Mars News"
      ]
    },
    {
      "cell_type": "code",
      "execution_count": 1,
      "metadata": {
        "colab": {
          "base_uri": "https://localhost:8080/",
          "height": 357
        },
        "id": "1vJno_N-CLS5",
        "outputId": "1b0d2e61-b538-4bcf-fbe6-ea55ccf37c18"
      },
      "outputs": [
        {
          "output_type": "error",
          "ename": "ModuleNotFoundError",
          "evalue": "No module named 'splinter'",
          "traceback": [
            "\u001b[0;31m---------------------------------------------------------------------------\u001b[0m",
            "\u001b[0;31mModuleNotFoundError\u001b[0m                       Traceback (most recent call last)",
            "\u001b[0;32m<ipython-input-1-bbf73431b549>\u001b[0m in \u001b[0;36m<cell line: 2>\u001b[0;34m()\u001b[0m\n\u001b[1;32m      1\u001b[0m \u001b[0;31m# Import Splinter and BeautifulSoup\u001b[0m\u001b[0;34m\u001b[0m\u001b[0;34m\u001b[0m\u001b[0m\n\u001b[0;32m----> 2\u001b[0;31m \u001b[0;32mfrom\u001b[0m \u001b[0msplinter\u001b[0m \u001b[0;32mimport\u001b[0m \u001b[0mBrowser\u001b[0m\u001b[0;34m\u001b[0m\u001b[0;34m\u001b[0m\u001b[0m\n\u001b[0m\u001b[1;32m      3\u001b[0m \u001b[0;32mfrom\u001b[0m \u001b[0mbs4\u001b[0m \u001b[0;32mimport\u001b[0m \u001b[0mBeautifulSoup\u001b[0m\u001b[0;34m\u001b[0m\u001b[0;34m\u001b[0m\u001b[0m\n",
            "\u001b[0;31mModuleNotFoundError\u001b[0m: No module named 'splinter'",
            "",
            "\u001b[0;31m---------------------------------------------------------------------------\u001b[0;32m\nNOTE: If your import is failing due to a missing package, you can\nmanually install dependencies using either !pip or !apt.\n\nTo view examples of installing some common dependencies, click the\n\"Open Examples\" button below.\n\u001b[0;31m---------------------------------------------------------------------------\u001b[0m\n"
          ],
          "errorDetails": {
            "actions": [
              {
                "action": "open_url",
                "actionText": "Open Examples",
                "url": "/notebooks/snippets/importing_libraries.ipynb"
              }
            ]
          }
        }
      ],
      "source": [
        "# Import Splinter and BeautifulSoup\n",
        "from splinter import Browser\n",
        "from bs4 import BeautifulSoup"
      ]
    },
    {
      "cell_type": "code",
      "execution_count": null,
      "metadata": {
        "scrolled": true,
        "id": "JCl1NGZBCLS6"
      },
      "outputs": [],
      "source": [
        "browser = Browser('chrome')"
      ]
    },
    {
      "cell_type": "markdown",
      "metadata": {
        "id": "Wn3WvuLECLS7"
      },
      "source": [
        "### Step 1: Visit the Website\n",
        "\n",
        "1. Use automated browsing to visit the [Mars news site](https://static.bc-edx.com/data/web/mars_news/index.html). Inspect the page to identify which elements to scrape.\n",
        "\n",
        "      > **Hint** To identify which elements to scrape, you might want to inspect the page by using Chrome DevTools."
      ]
    },
    {
      "cell_type": "code",
      "execution_count": null,
      "metadata": {
        "id": "IffvTI2MCLS7"
      },
      "outputs": [],
      "source": [
        "# Visit the Mars news site\n",
        "url = 'https://static.bc-edx.com/data/web/mars_news/index.html'\n",
        "browser.visit(url)"
      ]
    },
    {
      "cell_type": "markdown",
      "metadata": {
        "id": "1s5g7A2-CLS7"
      },
      "source": [
        "### Step 2: Scrape the Website\n",
        "\n",
        "Create a Beautiful Soup object and use it to extract text elements from the website."
      ]
    },
    {
      "cell_type": "code",
      "execution_count": null,
      "metadata": {
        "id": "QBHuCGYRCLS8"
      },
      "outputs": [],
      "source": [
        "# Create a Beautiful Soup object\n",
        "html = browser.html\n",
        "soup = soup(html, 'html.parser')"
      ]
    },
    {
      "cell_type": "code",
      "execution_count": null,
      "metadata": {
        "id": "fhQ4ipwHCLS8"
      },
      "outputs": [],
      "source": [
        "# Extract all the text elements\n",
        "all_text_elements = soup.find('html')"
      ]
    },
    {
      "cell_type": "markdown",
      "metadata": {
        "id": "ct-IdI66CLS8"
      },
      "source": [
        "### Step 3: Store the Results\n",
        "\n",
        "Extract the titles and preview text of the news articles that you scraped. Store the scraping results in Python data structures as follows:\n",
        "\n",
        "* Store each title-and-preview pair in a Python dictionary. And, give each dictionary two keys: `title` and `preview`. An example is the following:\n",
        "\n",
        "  ```python\n",
        "  {'title': \"NASA's MAVEN Observes Martian Light Show Caused by Major Solar Storm\",\n",
        "   'preview': \"For the first time in its eight years orbiting Mars, NASA’s MAVEN mission witnessed two different types of ultraviolet aurorae simultaneously, the result of solar storms that began on Aug. 27.\"\n",
        "  }\n",
        "  ```\n",
        "\n",
        "* Store all the dictionaries in a Python list.\n",
        "\n",
        "* Print the list in your notebook."
      ]
    },
    {
      "cell_type": "code",
      "execution_count": null,
      "metadata": {
        "id": "pMFa7wH2CLS9"
      },
      "outputs": [],
      "source": [
        "# Create an empty list to store the dictionaries\n",
        "list_of_dics = []"
      ]
    },
    {
      "cell_type": "code",
      "execution_count": null,
      "metadata": {
        "id": "og8sqjRiCLS9"
      },
      "outputs": [],
      "source": [
        "high_level_dev = all_text_elements.find_all('div', class_='col-md-8')\n",
        "\n",
        "# Loop through the text elements\n",
        "for article in high_level_dev:\n",
        "\n",
        "    # Extract the title and preview text from the elements\n",
        "    title = article.find('div', class_='content_title').text\n",
        "    preview = article.find('div', class_='article_teaser_body').text\n",
        "\n",
        "    # # Store each title and preview pair in a dictionary\n",
        "    article_dict = {'title': title, 'preview': preview}\n",
        "\n",
        "    # # Add the dictionary to the list\n",
        "    list_of_dics.append(article_dict)\n"
      ]
    },
    {
      "cell_type": "code",
      "execution_count": null,
      "metadata": {
        "id": "r7IZxMniCLS9",
        "outputId": "fca70e23-807b-465f-bdd9-b5c73738dfdf"
      },
      "outputs": [
        {
          "data": {
            "text/plain": [
              "[{'title': \"NASA's MAVEN Observes Martian Light Show Caused by Major Solar Storm\",\n",
              "  'preview': 'For the first time in its eight years orbiting Mars, NASA’s MAVEN mission witnessed two different types of ultraviolet aurorae simultaneously, the result of solar storms that began on Aug. 27.'},\n",
              " {'title': \"NASA Prepares to Say 'Farewell' to InSight Spacecraft\",\n",
              "  'preview': 'A closer look at what goes into wrapping up the mission as the spacecraft’s power supply continues to dwindle.'},\n",
              " {'title': 'NASA and ESA Agree on Next Steps to Return Mars Samples to Earth',\n",
              "  'preview': 'The agency’s Perseverance rover will establish the first sample depot on Mars.'},\n",
              " {'title': \"NASA's InSight Lander Detects Stunning Meteoroid Impact on Mars\",\n",
              "  'preview': 'The agency’s lander felt the ground shake during the impact while cameras aboard the Mars Reconnaissance Orbiter spotted the yawning new crater from space.'},\n",
              " {'title': 'NASA To Host Briefing on InSight, Mars Reconnaissance Orbiter Findings',\n",
              "  'preview': 'Scientists from two Mars missions will discuss how they combined images and data for a major finding on the Red Planet.'},\n",
              " {'title': 'Why NASA Is Trying To Crash Land on Mars',\n",
              "  'preview': 'Like a car’s crumple zone, the experimental SHIELD lander is designed to absorb a hard impact.'},\n",
              " {'title': 'Curiosity Mars Rover Reaches Long-Awaited Salty Region',\n",
              "  'preview': 'After years of climbing, the Mars rover has arrived at a special region believed to have formed as Mars’ climate was drying.'},\n",
              " {'title': 'Mars Mission Shields Up for Tests',\n",
              "  'preview': 'Protecting Mars Sample Return spacecraft from micrometeorites requires high-caliber work.'},\n",
              " {'title': \"NASA's InSight Waits Out Dust Storm\",\n",
              "  'preview': 'InSight’s team is taking steps to help the solar-powered lander continue operating for as long as possible.'},\n",
              " {'title': \"NASA's InSight 'Hears' Its First Meteoroid Impacts on Mars\",\n",
              "  'preview': 'The Mars lander’s seismometer has picked up vibrations from four separate impacts in the past two years.'},\n",
              " {'title': \"NASA's Perseverance Rover Investigates Geologically Rich Mars Terrain\",\n",
              "  'preview': 'The latest findings provide greater detail on a region of the Red Planet that has a watery past and is yielding promising samples for the NASA-ESA Mars Sample Return campaign.'},\n",
              " {'title': 'NASA to Host Briefing on Perseverance Mars Rover Mission Operations',\n",
              "  'preview': 'Members of the mission will discuss the rover’s activities as it gathers samples in an ancient river delta.'},\n",
              " {'title': \"NASA's Perseverance Makes New Discoveries in Mars' Jezero Crater\",\n",
              "  'preview': 'The rover found that Jezero Crater’s floor is made up of volcanic rocks that have interacted with water.'},\n",
              " {'title': \"10 Years Since Landing, NASA's Curiosity Mars Rover Still Has Drive\",\n",
              "  'preview': 'Despite signs of wear, the intrepid spacecraft is about to start an exciting new chapter of its mission as it climbs a Martian mountain.'},\n",
              " {'title': \"SAM's Top 5 Discoveries Aboard NASA's Curiosity Rover at Mars\",\n",
              "  'preview': '“Selfie” of the Curiosity rover with inset showing the SAM instrument prior to installation on the rover.'}]"
            ]
          },
          "execution_count": 8,
          "metadata": {},
          "output_type": "execute_result"
        }
      ],
      "source": [
        "# Print the list to confirm success\n",
        "print(list_of_dics)"
      ]
    },
    {
      "cell_type": "code",
      "execution_count": null,
      "metadata": {
        "id": "IlagWyHQCLS-"
      },
      "outputs": [],
      "source": [
        "browser.quit()"
      ]
    },
    {
      "cell_type": "code",
      "execution_count": null,
      "metadata": {
        "id": "KtjLhgtnCLS-"
      },
      "outputs": [],
      "source": []
    }
  ],
  "metadata": {
    "kernelspec": {
      "display_name": "Python 3 (ipykernel)",
      "language": "python",
      "name": "python3"
    },
    "language_info": {
      "codemirror_mode": {
        "name": "ipython",
        "version": 3
      },
      "file_extension": ".py",
      "mimetype": "text/x-python",
      "name": "python",
      "nbconvert_exporter": "python",
      "pygments_lexer": "ipython3",
      "version": "3.10.4"
    },
    "vscode": {
      "interpreter": {
        "hash": "31f2aee4e71d21fbe5cf8b01ff0e069b9275f58929596ceb00d14d90e3e16cd6"
      }
    },
    "colab": {
      "provenance": []
    }
  },
  "nbformat": 4,
  "nbformat_minor": 0
}